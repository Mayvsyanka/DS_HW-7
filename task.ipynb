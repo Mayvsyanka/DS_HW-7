{
  "nbformat": 4,
  "nbformat_minor": 0,
  "metadata": {
    "colab": {
      "provenance": []
    },
    "kernelspec": {
      "name": "python3",
      "display_name": "Python 3"
    },
    "language_info": {
      "name": "python"
    }
  },
  "cells": [
    {
      "cell_type": "code",
      "execution_count": null,
      "metadata": {
        "colab": {
          "base_uri": "https://localhost:8080/"
        },
        "id": "0LgI1m9wv6JG",
        "outputId": "ad53fef0-db8c-4458-9ba4-79fb553ec43a"
      },
      "outputs": [
        {
          "output_type": "stream",
          "name": "stdout",
          "text": [
            "Collecting surprise\n",
            "  Downloading surprise-0.1-py2.py3-none-any.whl (1.8 kB)\n",
            "Collecting scikit-surprise (from surprise)\n",
            "  Downloading scikit-surprise-1.1.3.tar.gz (771 kB)\n",
            "\u001b[2K     \u001b[90m━━━━━━━━━━━━━━━━━━━━━━━━━━━━━━━━━━━━━━━\u001b[0m \u001b[32m772.0/772.0 kB\u001b[0m \u001b[31m7.9 MB/s\u001b[0m eta \u001b[36m0:00:00\u001b[0m\n",
            "\u001b[?25h  Preparing metadata (setup.py) ... \u001b[?25l\u001b[?25hdone\n",
            "Requirement already satisfied: joblib>=1.0.0 in /usr/local/lib/python3.10/dist-packages (from scikit-surprise->surprise) (1.3.2)\n",
            "Requirement already satisfied: numpy>=1.17.3 in /usr/local/lib/python3.10/dist-packages (from scikit-surprise->surprise) (1.23.5)\n",
            "Requirement already satisfied: scipy>=1.3.2 in /usr/local/lib/python3.10/dist-packages (from scikit-surprise->surprise) (1.11.2)\n",
            "Building wheels for collected packages: scikit-surprise\n",
            "  Building wheel for scikit-surprise (setup.py) ... \u001b[?25l\u001b[?25hdone\n",
            "  Created wheel for scikit-surprise: filename=scikit_surprise-1.1.3-cp310-cp310-linux_x86_64.whl size=3156243 sha256=6788e22d4b85807300af3791e5e834e5e2c0493177c49716dc6ca40670c3f98c\n",
            "  Stored in directory: /root/.cache/pip/wheels/a5/ca/a8/4e28def53797fdc4363ca4af740db15a9c2f1595ebc51fb445\n",
            "Successfully built scikit-surprise\n",
            "Installing collected packages: scikit-surprise, surprise\n",
            "Successfully installed scikit-surprise-1.1.3 surprise-0.1\n"
          ]
        }
      ],
      "source": [
        "pip install surprise\n"
      ]
    },
    {
      "cell_type": "code",
      "source": [
        "from surprise import SVD, SVDpp, NMF\n",
        "from surprise import Dataset\n",
        "from surprise.model_selection import cross_validate, train_test_split"
      ],
      "metadata": {
        "id": "Zr0nrNtgwYJa"
      },
      "execution_count": null,
      "outputs": []
    },
    {
      "cell_type": "code",
      "source": [
        "data = Dataset.load_builtin('ml-100k')\n",
        "train, test = train_test_split(data, test_size=25)"
      ],
      "metadata": {
        "id": "ShJeGi2ZwbgN"
      },
      "execution_count": null,
      "outputs": []
    },
    {
      "cell_type": "code",
      "source": [
        "algorithms = [SVD(), NMF(), SVDpp()]\n",
        "\n",
        "for algo in algorithms:\n",
        "  results = cross_validate(algo, data, measures=['RMSE'], cv=4, verbose=True)\n",
        "  print()"
      ],
      "metadata": {
        "colab": {
          "base_uri": "https://localhost:8080/"
        },
        "id": "WtyW5qJ9w1c3",
        "outputId": "4581315d-42ad-445a-e660-cf860526967c"
      },
      "execution_count": null,
      "outputs": [
        {
          "output_type": "stream",
          "name": "stdout",
          "text": [
            "Evaluating RMSE of algorithm SVD on 4 split(s).\n",
            "\n",
            "                  Fold 1  Fold 2  Fold 3  Fold 4  Mean    Std     \n",
            "RMSE (testset)    0.9445  0.9363  0.9399  0.9402  0.9402  0.0029  \n",
            "Fit time          1.46    1.21    1.23    1.50    1.35    0.13    \n",
            "Test time         0.16    0.27    0.31    0.21    0.24    0.06    \n",
            "\n",
            "Evaluating RMSE of algorithm NMF on 4 split(s).\n",
            "\n",
            "                  Fold 1  Fold 2  Fold 3  Fold 4  Mean    Std     \n",
            "RMSE (testset)    0.9669  0.9717  0.9679  0.9645  0.9677  0.0026  \n",
            "Fit time          2.12    2.46    1.87    2.18    2.16    0.21    \n",
            "Test time         0.35    0.25    0.13    0.32    0.26    0.09    \n",
            "\n",
            "Evaluating RMSE of algorithm SVDpp on 4 split(s).\n",
            "\n",
            "                  Fold 1  Fold 2  Fold 3  Fold 4  Mean    Std     \n",
            "RMSE (testset)    0.9273  0.9215  0.9195  0.9247  0.9233  0.0030  \n",
            "Fit time          23.91   23.68   25.97   26.44   25.00   1.22    \n",
            "Test time         5.73    6.13    6.26    6.87    6.24    0.41    \n",
            "\n"
          ]
        }
      ]
    },
    {
      "cell_type": "markdown",
      "source": [
        "Згідно результатам крос валідації, можна прийти до висновку, що для цього набору данних краще використовувати алгоритм SVD. Він має трохи більшу помилку ніж алгоритм SVDpp, але при цьому має набагато вищу швидкість в порівнянні з цим алгоритмом, тому якщо важлива швидкість і є можливість трохи знехтувати точність то SVD підходить найкраще."
      ],
      "metadata": {
        "id": "jZHk7Jsu4WkM"
      }
    }
  ]
}